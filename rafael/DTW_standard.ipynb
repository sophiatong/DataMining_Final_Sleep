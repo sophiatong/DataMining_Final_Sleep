{
 "cells": [
  {
   "cell_type": "code",
   "execution_count": 1,
   "metadata": {},
   "outputs": [],
   "source": [
    "from itertools import combinations\n",
    "import pandas as pd\n",
    "import os"
   ]
  },
  {
   "cell_type": "code",
   "execution_count": 2,
   "metadata": {},
   "outputs": [],
   "source": [
    "df = pd.read_excel('SubjectDetails.xls')"
   ]
  },
  {
   "cell_type": "code",
   "execution_count": 3,
   "metadata": {},
   "outputs": [],
   "source": [
    "# Define vars of interest\n",
    "vars_of_interest = ['C3A2', 'abdo', 'Flow', 'Sum', 'Pulse', 'RightEye', 'C4A1', 'SpO2', 'BodyPos', 'ribcage', 'EMG', 'ECG', 'Lefteye']\n",
    "var_pairs = list(combinations(vars_of_interest, 2))\n",
    "res = pd.DataFrame(columns=[f's.DTW:{i} - {j}' for i, j in var_pairs])"
   ]
  },
  {
   "cell_type": "code",
   "execution_count": 4,
   "metadata": {},
   "outputs": [],
   "source": [
    "# Iterate over DTW data files\n",
    "files = sorted(os.listdir('DTW_standardized'))\n",
    "for i, f in enumerate(files):\n",
    "    dtw_data = pd.read_csv(f'DTW_standardized/{f}', index_col=0)\n",
    "    res.loc[i] = [dtw_data.loc[var_1, var_2] for var_1, var_2 in var_pairs]"
   ]
  },
  {
   "cell_type": "code",
   "execution_count": 5,
   "metadata": {},
   "outputs": [],
   "source": [
    "# Divide by study duration to take into account that studies taking longer might have higher DTW distances between pairs\n",
    "res2 = res.div(df['Study Duration (hr)'], axis=0)"
   ]
  },
  {
   "cell_type": "code",
   "execution_count": 6,
   "metadata": {},
   "outputs": [
    {
     "data": {
      "text/plain": [
       "s.DTW:Sum - ribcage         303.062618\n",
       "s.DTW:abdo - Sum            323.554664\n",
       "s.DTW:RightEye - Lefteye    471.180813\n",
       "s.DTW:abdo - ribcage        496.172264\n",
       "s.DTW:RightEye - C4A1       497.371327\n",
       "s.DTW:C4A1 - Lefteye        516.578839\n",
       "s.DTW:Flow - Sum            561.939569\n",
       "s.DTW:C3A2 - Lefteye        568.211073\n",
       "s.DTW:C3A2 - C4A1           571.462060\n",
       "s.DTW:abdo - Flow           575.473306\n",
       "s.DTW:C3A2 - RightEye       576.567708\n",
       "s.DTW:ribcage - Lefteye     577.966743\n",
       "s.DTW:RightEye - ribcage    579.717773\n",
       "s.DTW:Sum - RightEye        580.076671\n",
       "s.DTW:Sum - Lefteye         584.659605\n",
       "s.DTW:Flow - ribcage        585.869655\n",
       "s.DTW:abdo - Lefteye        589.045413\n",
       "s.DTW:abdo - RightEye       590.755954\n",
       "s.DTW:C4A1 - ribcage        601.595109\n",
       "s.DTW:Sum - C4A1            605.756403\n",
       "dtype: float64"
      ]
     },
     "execution_count": 6,
     "metadata": {},
     "output_type": "execute_result"
    }
   ],
   "source": [
    "res.mean().sort_values()[:20]"
   ]
  },
  {
   "cell_type": "code",
   "execution_count": 7,
   "metadata": {},
   "outputs": [
    {
     "data": {
      "text/plain": [
       "s.DTW:Sum - ribcage         43.625992\n",
       "s.DTW:abdo - Sum            46.803256\n",
       "s.DTW:RightEye - Lefteye    68.558182\n",
       "s.DTW:abdo - ribcage        71.790204\n",
       "s.DTW:RightEye - C4A1       72.140607\n",
       "s.DTW:C4A1 - Lefteye        75.043132\n",
       "s.DTW:Flow - Sum            81.324960\n",
       "s.DTW:C3A2 - Lefteye        82.544875\n",
       "s.DTW:C3A2 - C4A1           82.950758\n",
       "s.DTW:abdo - Flow           83.347466\n",
       "s.DTW:ribcage - Lefteye     83.721000\n",
       "s.DTW:C3A2 - RightEye       83.785329\n",
       "s.DTW:RightEye - ribcage    83.900131\n",
       "s.DTW:Sum - RightEye        83.966514\n",
       "s.DTW:Sum - Lefteye         84.687022\n",
       "s.DTW:Flow - ribcage        84.865517\n",
       "s.DTW:abdo - Lefteye        85.471624\n",
       "s.DTW:abdo - RightEye       85.666236\n",
       "s.DTW:C4A1 - ribcage        87.091538\n",
       "s.DTW:Sum - C4A1            87.697715\n",
       "dtype: float64"
      ]
     },
     "execution_count": 7,
     "metadata": {},
     "output_type": "execute_result"
    }
   ],
   "source": [
    "res2.mean().sort_values()[:20]"
   ]
  }
 ],
 "metadata": {
  "kernelspec": {
   "display_name": "Python 3",
   "language": "python",
   "name": "python3"
  },
  "language_info": {
   "codemirror_mode": {
    "name": "ipython",
    "version": 3
   },
   "file_extension": ".py",
   "mimetype": "text/x-python",
   "name": "python",
   "nbconvert_exporter": "python",
   "pygments_lexer": "ipython3",
   "version": "3.8.10"
  }
 },
 "nbformat": 4,
 "nbformat_minor": 2
}
